{
 "cells": [
  {
   "cell_type": "code",
   "execution_count": null,
   "id": "5663c4f3-81a1-4bdf-8990-7fbc38fbb918",
   "metadata": {},
   "outputs": [],
   "source": [
    "secret = 3\n",
    "guess = 6\n",
    "if (guess == secret):\n",
    "    print('just right')\n",
    "elif (guess > secret):\n",
    "    print('too high')\n",
    "elif (guess < secret):\n",
    "    print('too low')"
   ]
  },
  {
   "cell_type": "code",
   "execution_count": null,
   "id": "81aa8aed-327b-4ab4-bab3-f19e224cc64f",
   "metadata": {},
   "outputs": [],
   "source": [
    "small = True\n",
    "big = True\n",
    "if small:\n",
    "    #I dont know if you want both or individuals so I just did both\n",
    "    print('cherry or pea')\n",
    "if big:\n",
    "    print('watermelon or pumpkin')\n"
   ]
  },
  {
   "cell_type": "code",
   "execution_count": null,
   "id": "632c4718-6795-4820-92a8-3bac9eb5ed8b",
   "metadata": {},
   "outputs": [],
   "source": [
    "for x in range(0, 4):  \n",
    "    print(x)\n",
    "    list( range(0, 4) )"
   ]
  },
  {
   "cell_type": "code",
   "execution_count": 13,
   "id": "1d377a8e-f0b9-4357-8901-cc6e784a53b2",
   "metadata": {},
   "outputs": [
    {
     "name": "stdout",
     "output_type": "stream",
     "text": [
      "too low\n",
      "too low\n",
      "too low\n",
      "too low\n",
      "too low\n",
      "too low\n",
      "found it!\n"
     ]
    }
   ],
   "source": [
    "guess_me = 7\n",
    "number = 1\n",
    "while True:\n",
    "    if number < guess_me:\n",
    "        print(\"too low\")\n",
    "    elif number == guess_me:\n",
    "        print('found it!')\n",
    "        break\n",
    "    else:\n",
    "        print(\"oops\")\n",
    "        break\n",
    "    number += 1"
   ]
  },
  {
   "cell_type": "code",
   "execution_count": null,
   "id": "a52d9814-35f4-4938-85f5-4cf5f2db5048",
   "metadata": {},
   "outputs": [],
   "source": []
  },
  {
   "cell_type": "code",
   "execution_count": null,
   "id": "6f596255-4ab8-4695-ae3a-af6667234de3",
   "metadata": {},
   "outputs": [],
   "source": []
  },
  {
   "cell_type": "code",
   "execution_count": 34,
   "id": "e07f1bf9-3a29-446d-a4e9-b517afd8d3cd",
   "metadata": {},
   "outputs": [
    {
     "name": "stdout",
     "output_type": "stream",
     "text": [
      "too low\n",
      "too low\n",
      "too low\n",
      "too low\n",
      "too low\n",
      "found it!\n"
     ]
    }
   ],
   "source": [
    "guess_me = 5\n",
    "for number in range(0, 10):  \n",
    "    if number < guess_me:\n",
    "       print('too low')\n",
    "    elif number == guess_me:\n",
    "        print('found it!')\n",
    "        break\n",
    "    else:\n",
    "        print(\"oops\")\n",
    "        break"
   ]
  }
 ],
 "metadata": {
  "kernelspec": {
   "display_name": "Python 3 (ipykernel)",
   "language": "python",
   "name": "python3"
  },
  "language_info": {
   "codemirror_mode": {
    "name": "ipython",
    "version": 3
   },
   "file_extension": ".py",
   "mimetype": "text/x-python",
   "name": "python",
   "nbconvert_exporter": "python",
   "pygments_lexer": "ipython3",
   "version": "3.13.5"
  }
 },
 "nbformat": 4,
 "nbformat_minor": 5
}
