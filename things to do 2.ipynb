{
 "cells": [
  {
   "cell_type": "code",
   "execution_count": 15,
   "id": "f56331f7-1922-43d4-bd89-c03d8a451ccc",
   "metadata": {},
   "outputs": [
    {
     "name": "stdout",
     "output_type": "stream",
     "text": [
      "cherry or pea\n",
      "watermelon or pumpkin\n"
     ]
    }
   ],
   "source": [
    "small = True\n",
    "big = True\n",
    "if small:\n",
    "    #I dont know if you want both or individuals so I just did both\n",
    "    print('cherry or pea')\n",
    "if big:\n",
    "    print('watermelon or pumpkin')\n"
   ]
  },
  {
   "cell_type": "code",
   "execution_count": null,
   "id": "6b02a4ef-8875-4a63-b021-9f92f8fdbb52",
   "metadata": {},
   "outputs": [],
   "source": []
  }
 ],
 "metadata": {
  "kernelspec": {
   "display_name": "Python 3 (ipykernel)",
   "language": "python",
   "name": "python3"
  },
  "language_info": {
   "codemirror_mode": {
    "name": "ipython",
    "version": 3
   },
   "file_extension": ".py",
   "mimetype": "text/x-python",
   "name": "python",
   "nbconvert_exporter": "python",
   "pygments_lexer": "ipython3",
   "version": "3.13.5"
  }
 },
 "nbformat": 4,
 "nbformat_minor": 5
}
