{
 "cells": [
  {
   "cell_type": "code",
   "execution_count": 12,
   "id": "5ee4b5fc-e256-4c39-9684-f48de474f720",
   "metadata": {},
   "outputs": [
    {
     "name": "stdout",
     "output_type": "stream",
     "text": [
      "too high\n"
     ]
    }
   ],
   "source": [
    "secret = 3\n",
    "guess = 6\n",
    "if (guess == secret):\n",
    "    print('just right')\n",
    "elif (guess > secret):\n",
    "    print('too high')\n",
    "elif (guess < secret):\n",
    "    print('too low')"
   ]
  },
  {
   "cell_type": "code",
   "execution_count": null,
   "id": "68ee1809-328b-4d48-a9d1-3664725e0ea0",
   "metadata": {},
   "outputs": [],
   "source": []
  },
  {
   "cell_type": "code",
   "execution_count": null,
   "id": "27eafb02-0115-4b56-a170-2b1e3e21214b",
   "metadata": {},
   "outputs": [],
   "source": []
  }
 ],
 "metadata": {
  "kernelspec": {
   "display_name": "Python 3 (ipykernel)",
   "language": "python",
   "name": "python3"
  },
  "language_info": {
   "codemirror_mode": {
    "name": "ipython",
    "version": 3
   },
   "file_extension": ".py",
   "mimetype": "text/x-python",
   "name": "python",
   "nbconvert_exporter": "python",
   "pygments_lexer": "ipython3",
   "version": "3.13.5"
  }
 },
 "nbformat": 4,
 "nbformat_minor": 5
}
